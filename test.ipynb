{
 "cells": [
  {
   "cell_type": "code",
   "execution_count": 5,
   "metadata": {},
   "outputs": [],
   "source": [
    "from langchain.llms import Ollama"
   ]
  },
  {
   "cell_type": "markdown",
   "metadata": {},
   "source": []
  },
  {
   "cell_type": "code",
   "execution_count": 8,
   "metadata": {},
   "outputs": [],
   "source": [
    "ollama = Ollama(base_url='http://localhost:11434',model='Mighty_Raju:latest')"
   ]
  },
  {
   "cell_type": "code",
   "execution_count": 9,
   "metadata": {},
   "outputs": [
    {
     "data": {
      "text/plain": [
       "'**Listen up, students! This is not a playground for casual inquiries.**  You want the **most significant research?**  Get ready to dig deep because \"significant\" means pushing boundaries and making real advancements. \\n\\nHere\\'s what I consider to be the **foundational breakthroughs** in AI:\\n\\n**1. Deep Learning:** No need for flowery language, this is the foundation! It\\'s about building neural networks that learn from data like humans.  Think of it as giving a computer brain by training it on vast datasets. \\n    * **Reshaping our understanding:** This revolutionized image recognition, natural language processing (NLP), and even self-driving cars. We\\'re talking **real-world applications** here!\\n\\n**2. Reinforcement Learning:**  It\\'s about training AI to learn through trial and error. Think of it as \"playing the game\" until they achieve success. This is crucial for robots, games, and dynamic environments. \\n    * **Beyond simple tasks:** This opens doors to complex decision-making in areas like resource management and medical diagnosis.\\n\\n**3. Generative AI:**  This isn\\'t just about spitting out text or images; it\\'s about **creating new things!** \\n    * **From code to music, art to stories:** We\\'re seeing groundbreaking tools that are pushing the limits of creativity. Think of the possibilities for creative professionals and even scientists who can use these tools to explore new frontiers.\\n\\n\\n**These breakthroughs aren’t just research; they are impacting our lives:**\\n\\n* **Medical Diagnostics:** Faster, more accurate diagnoses through AI-powered image analysis.\\n* **Self-driving Cars:** Moving from simulated environments to real-world testing and autonomous driving. \\n* **Personalized Education:**  AI can tailor learning experiences for each student’s needs.\\n\\n**Now, keep these points in mind:** \\n    * **This is just the tip of the iceberg!** There\\'s a constantly expanding landscape of research happening across various domains. \\n    * **Focus on your specific interests.** What are you passionate about? AI is multifaceted; find your niche and dive deep.\\n\\n**Remember, in this field, there\\'s no room for shortcuts! You must understand the fundamentals to make real progress.** Are you ready to embark on this journey of exploration? \\n\\n\\nLet me know if you want to explore specific areas in more detail!  Don\\'t be lazy, **be proactive!**\\n'"
      ]
     },
     "execution_count": 9,
     "metadata": {},
     "output_type": "execute_result"
    }
   ],
   "source": [
    "ollama('Hi can you tell me the most significt research in the field of ai')"
   ]
  },
  {
   "cell_type": "code",
   "execution_count": null,
   "metadata": {},
   "outputs": [],
   "source": []
  }
 ],
 "metadata": {
  "kernelspec": {
   "display_name": "ass",
   "language": "python",
   "name": "python3"
  },
  "language_info": {
   "codemirror_mode": {
    "name": "ipython",
    "version": 3
   },
   "file_extension": ".py",
   "mimetype": "text/x-python",
   "name": "python",
   "nbconvert_exporter": "python",
   "pygments_lexer": "ipython3",
   "version": "3.10.14"
  }
 },
 "nbformat": 4,
 "nbformat_minor": 2
}
